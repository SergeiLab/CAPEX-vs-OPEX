{
  "nbformat": 4,
  "nbformat_minor": 0,
  "metadata": {
    "colab": {
      "provenance": [],
      "authorship_tag": "ABX9TyO4G0obnV6E7JsYr7SXNnj3",
      "include_colab_link": true
    },
    "kernelspec": {
      "name": "python3",
      "display_name": "Python 3"
    },
    "language_info": {
      "name": "python"
    }
  },
  "cells": [
    {
      "cell_type": "markdown",
      "metadata": {
        "id": "view-in-github",
        "colab_type": "text"
      },
      "source": [
        "<a href=\"https://colab.research.google.com/github/SergeiLab/CAPEX-vs-OPEX/blob/main/capexvsopex.ipynb\" target=\"_parent\"><img src=\"https://colab.research.google.com/assets/colab-badge.svg\" alt=\"Open In Colab\"/></a>"
      ]
    },
    {
      "cell_type": "code",
      "source": [
        "import pandas as pd\n",
        "import numpy as np\n",
        "from sklearn.model_selection import train_test_split\n",
        "from sklearn.ensemble import RandomForestClassifier\n",
        "from sklearn.feature_extraction.text import TfidfVectorizer\n",
        "from sklearn.preprocessing import LabelEncoder\n",
        "from sklearn.metrics import f1_score\n",
        "import joblib\n",
        "\n",
        "train = pd.read_csv('capex_opex_train.csv')\n",
        "\n",
        "train['task_subject'] = train['task_subject'].fillna('')\n",
        "train['work_description'] = train['work_description'].fillna('')\n",
        "train['task_type'] = train['task_type'].fillna('UNKNOWN')\n",
        "train['task_status'] = train['task_status'].fillna('UNKNOWN')\n",
        "\n",
        "train['text'] = train['task_subject'] + ' ' + train['work_description']\n",
        "\n",
        "le_type = LabelEncoder()\n",
        "le_status = LabelEncoder()\n",
        "le_target = LabelEncoder()\n",
        "\n",
        "train['task_type_enc'] = le_type.fit_transform(train['task_type'])\n",
        "train['task_status_enc'] = le_status.fit_transform(train['task_status'])\n",
        "train['target_enc'] = le_target.fit_transform(train['target'])\n",
        "\n",
        "tfidf = TfidfVectorizer(max_features=5000, ngram_range=(1, 2), stop_words='english')\n",
        "X_text = tfidf.fit_transform(train['text']).toarray()\n",
        "\n",
        "X_meta = train[['hours', 'task_type_enc', 'task_status_enc']].values\n",
        "\n",
        "X = np.hstack([X_text, X_meta])\n",
        "y = train['target_enc'].values\n",
        "\n",
        "model = RandomForestClassifier(\n",
        "    n_estimators=300,\n",
        "    max_depth=20,\n",
        "    random_state=42,\n",
        "    class_weight='balanced'\n",
        ")\n",
        "model.fit(X, y)\n",
        "\n",
        "joblib.dump(model, 'model.pkl')\n",
        "joblib.dump(tfidf, 'tfidf.pkl')\n",
        "joblib.dump(le_type, 'le_type.pkl')\n",
        "joblib.dump(le_status, 'le_status.pkl')\n",
        "joblib.dump(le_target, 'le_target.pkl')\n",
        "\n",
        "print(\"ML is Over.\")"
      ],
      "metadata": {
        "colab": {
          "base_uri": "https://localhost:8080/"
        },
        "id": "oxopsPWDsrKi",
        "outputId": "e614b69c-69fc-48b0-f2d8-00a270566ded"
      },
      "execution_count": 3,
      "outputs": [
        {
          "output_type": "stream",
          "name": "stdout",
          "text": [
            "✅ Модель обучена и сохранена.\n"
          ]
        }
      ]
    },
    {
      "cell_type": "code",
      "source": [
        "import pandas as pd\n",
        "import numpy as np\n",
        "from sklearn.feature_extraction.text import TfidfVectorizer\n",
        "from sklearn.preprocessing import LabelEncoder\n",
        "import joblib\n",
        "\n",
        "test = pd.read_csv('capex_opex_public_test.csv')\n",
        "\n",
        "test['task_subject'] = test['task_subject'].fillna('')\n",
        "test['work_description'] = test['work_description'].fillna('')\n",
        "test['task_type'] = test['task_type'].fillna('UNKNOWN')\n",
        "test['task_status'] = test['task_status'].fillna('UNKNOWN')\n",
        "\n",
        "test['text'] = test['task_subject'] + ' ' + test['work_description']\n",
        "\n",
        "tfidf = joblib.load('tfidf.pkl')\n",
        "le_type = joblib.load('le_type.pkl')\n",
        "le_status = joblib.load('le_status.pkl')\n",
        "le_target = joblib.load('le_target.pkl')\n",
        "model = joblib.load('model.pkl')\n",
        "\n",
        "if 'UNKNOWN' not in le_type.classes_:\n",
        "    le_type.classes_ = np.append(le_type.classes_, 'UNKNOWN')\n",
        "if 'UNKNOWN' not in le_status.classes_:\n",
        "    le_status.classes_ = np.append(le_status.classes_, 'UNKNOWN')\n",
        "\n",
        "def safe_transform(series, encoder):\n",
        "    known_labels = set(encoder.classes_)\n",
        "    series_clean = series.map(lambda x: x if x in known_labels else 'UNKNOWN')\n",
        "    return encoder.transform(series_clean)\n",
        "\n",
        "test['task_type_enc'] = safe_transform(test['task_type'], le_type)\n",
        "test['task_status_enc'] = safe_transform(test['task_status'], le_status)\n",
        "\n",
        "X_text = tfidf.transform(test['text']).toarray()\n",
        "X_meta = test[['hours', 'task_type_enc', 'task_status_enc']].values\n",
        "X = np.hstack([X_text, X_meta])\n",
        "\n",
        "y_pred_enc = model.predict(X)\n",
        "y_pred = le_target.inverse_transform(y_pred_enc)\n",
        "\n",
        "submission = pd.DataFrame({'target': y_pred})\n",
        "submission.to_csv('submission_seed42.csv', index=False)\n",
        "\n",
        "print(\"Look at the submission_seed42.csv\")"
      ],
      "metadata": {
        "colab": {
          "base_uri": "https://localhost:8080/"
        },
        "id": "_6tJaWA2yKtX",
        "outputId": "8bb43949-16ec-463f-a4f1-c9b286982820"
      },
      "execution_count": 6,
      "outputs": [
        {
          "output_type": "stream",
          "name": "stdout",
          "text": [
            "✅ Предсказания успешно сохранены в submission_seed42.csv\n"
          ]
        }
      ]
    }
  ]
}