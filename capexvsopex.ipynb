{
  "nbformat": 4,
  "nbformat_minor": 0,
  "metadata": {
    "colab": {
      "provenance": [],
      "authorship_tag": "ABX9TyMmF2EBBlvjckMDw9tgXnUZ",
      "include_colab_link": true
    },
    "kernelspec": {
      "name": "python3",
      "display_name": "Python 3"
    },
    "language_info": {
      "name": "python"
    }
  },
  "cells": [
    {
      "cell_type": "markdown",
      "metadata": {
        "id": "view-in-github",
        "colab_type": "text"
      },
      "source": [
        "<a href=\"https://colab.research.google.com/github/SergeiLab/CAPEX-vs-OPEX/blob/main/capexvsopex.ipynb\" target=\"_parent\"><img src=\"https://colab.research.google.com/assets/colab-badge.svg\" alt=\"Open In Colab\"/></a>"
      ]
    },
    {
      "cell_type": "code",
      "source": [
        "import pandas as pd\n",
        "import numpy as np\n",
        "import re\n",
        "import pickle\n",
        "from sklearn.model_selection import train_test_split\n",
        "from sklearn.feature_extraction.text import TfidfVectorizer\n",
        "from sklearn.preprocessing import LabelEncoder\n",
        "from sklearn.metrics import f1_score\n",
        "import xgboost as xgb\n",
        "from scipy.sparse import hstack, csr_matrix\n",
        "import warnings\n",
        "warnings.filterwarnings('ignore')\n",
        "\n",
        "SEED = 42\n",
        "np.random.seed(SEED)\n",
        "\n",
        "df = pd.read_csv('capex_opex_train.csv')\n",
        "\n",
        "def clean(text):\n",
        "    if pd.isna(text): return \"\"\n",
        "    return re.sub(r'\\s+', ' ', re.sub(r'[^a-zA-Zа-яА-Я0-9\\s]', ' ', str(text).lower())).strip()\n",
        "\n",
        "df['text'] = df['task_subject'].apply(clean) + ' ' + df['work_description'].apply(clean)\n",
        "\n",
        "tfidf = TfidfVectorizer(max_features=3000, min_df=2, max_df=0.95, ngram_range=(1,3))\n",
        "X_text = tfidf.fit_transform(df['text'])\n",
        "\n",
        "le_type = LabelEncoder()\n",
        "le_status = LabelEncoder()\n",
        "le_target = LabelEncoder()\n",
        "\n",
        "df['type_enc'] = le_type.fit_transform(df['task_type'].fillna('unk'))\n",
        "df['status_enc'] = le_status.fit_transform(df['task_status'].fillna('unk'))\n",
        "df['hours_log'] = np.log1p(df['hours'].fillna(0))\n",
        "\n",
        "X_add = df[['type_enc', 'status_enc', 'hours_log']].values\n",
        "X = hstack([X_text, csr_matrix(X_add)])\n",
        "y = le_target.fit_transform(df['target'])\n",
        "\n",
        "X_tr, X_val, y_tr, y_val = train_test_split(X, y, test_size=0.2, random_state=SEED, stratify=y)\n",
        "\n",
        "model = xgb.XGBClassifier(n_estimators=200, max_depth=6, learning_rate=0.05, random_state=SEED)\n",
        "model.fit(X_tr, y_tr)\n",
        "\n",
        "print(f\"F1: {f1_score(y_val, model.predict(X_val), average='macro'):.4f}\")\n",
        "\n",
        "model.fit(X, y)\n",
        "\n",
        "with open('capex_opex_model.pkl', 'wb') as f:\n",
        "    pickle.dump({'model': model, 'tfidf': tfidf, 'le_type': le_type, 'le_status': le_status, 'le_target': le_target, 'seed': SEED}, f)\n",
        "\n",
        "print(\"Done\")"
      ],
      "metadata": {
        "id": "RaM73z1oGY17"
      },
      "execution_count": null,
      "outputs": []
    },
    {
      "cell_type": "code",
      "source": [
        "import pandas as pd\n",
        "import numpy as np\n",
        "import re\n",
        "import pickle\n",
        "from scipy.sparse import hstack, csr_matrix\n",
        "import warnings\n",
        "warnings.filterwarnings('ignore')\n",
        "\n",
        "with open('capex_opex_model.pkl', 'rb') as f:\n",
        "    m = pickle.load(f)\n",
        "\n",
        "model, tfidf, le_type, le_status, le_target, SEED = m['model'], m['tfidf'], m['le_type'], m['le_status'], m['le_target'], m['seed']\n",
        "\n",
        "df = pd.read_csv('capex_opex_public_test.csv')\n",
        "\n",
        "def clean(text):\n",
        "    if pd.isna(text): return \"\"\n",
        "    return re.sub(r'\\s+', ' ', re.sub(r'[^a-zA-Zа-яА-Я0-9\\s]', ' ', str(text).lower())).strip()\n",
        "\n",
        "df['text'] = df['task_subject'].apply(clean) + ' ' + df['work_description'].apply(clean)\n",
        "\n",
        "X_text = tfidf.transform(df['text'])\n",
        "\n",
        "def enc(le, vals):\n",
        "    return np.array([le.transform([v])[0] if v in le.classes_ else 0 for v in vals.fillna('unk')])\n",
        "\n",
        "df['type_enc'] = enc(le_type, df['task_type'])\n",
        "df['status_enc'] = enc(le_status, df['task_status'])\n",
        "df['hours_log'] = np.log1p(df['hours'].fillna(0))\n",
        "\n",
        "X = hstack([X_text, csr_matrix(df[['type_enc', 'status_enc', 'hours_log']].values)])\n",
        "\n",
        "preds = le_target.inverse_transform(model.predict(X))\n",
        "\n",
        "pd.DataFrame({'target': preds}).to_csv(f'sample_submission_seed{SEED}.csv', index=False)\n",
        "\n",
        "print(\"Done\")"
      ],
      "metadata": {
        "id": "9ue8Cgv_GcN7"
      },
      "execution_count": null,
      "outputs": []
    }
  ]
}